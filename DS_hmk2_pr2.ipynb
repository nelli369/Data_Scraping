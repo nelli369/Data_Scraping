{
  "nbformat": 4,
  "nbformat_minor": 0,
  "metadata": {
    "colab": {
      "name": "DS hmk2 pr2.ipynb",
      "provenance": []
    },
    "kernelspec": {
      "name": "python3",
      "display_name": "Python 3"
    }
  },
  "cells": [
    {
      "cell_type": "code",
      "metadata": {
        "id": "vslOjlU9obc1",
        "colab_type": "code",
        "colab": {}
      },
      "source": [
        "!pip install scrapy"
      ],
      "execution_count": null,
      "outputs": []
    },
    {
      "cell_type": "code",
      "metadata": {
        "id": "XVh7XuzwoXkv",
        "colab_type": "code",
        "colab": {}
      },
      "source": [
        "import time\n",
        "import requests\n",
        "import numpy as np\n",
        "import pandas as pd\n",
        "from scrapy.http import TextResponse\n",
        "import re"
      ],
      "execution_count": 3,
      "outputs": []
    },
    {
      "cell_type": "code",
      "metadata": {
        "id": "IuzIopYQoHsv",
        "colab_type": "code",
        "colab": {}
      },
      "source": [
        "def movie_scraper(url,base_url=\"https://www.imdb.com/chart/moviemeter/\"):\n",
        "    page = requests.get(url)\n",
        "    response = TextResponse(body=page.text,url=url,encoding=\"utf-8\")\n",
        "    title = response.css(\"td.titleColumn >a ::text\").extract()\n",
        "    release_year = response.css(\"td >span.secondaryInfo::text\").extract()\n",
        "    year = [i.replace(\"(\" , \"\").replace(\")\" , \"\") for i in release_year]\n",
        "    ratings_table = response.css(\"td.ratingColumn.imdbRating\")\n",
        "    rating = [i.css('strong::text').extract_first() for i in ratings_table]\n",
        "    movurl = response.css(\"td.titleColumn ::attr(href)\").extract()\n",
        "    hyperlink = 'https://www.imdb.com/'\n",
        "    movie_hyperlink = [hyperlink+i for i in movurl]\n",
        "    rank_div = response.css(\"div.velocity\")\n",
        "    rank_ext = [i.css(\"::text\").extract_first() for i in rank_div]\n",
        "    ranks = [i.replace('\\n',\"\").replace(\"(no change)\",\"\") for i in rank_ext]  \n",
        "    return pd.DataFrame({\"Title\":title,  \"Year\":year, \"Ratings\":rating, \"Movie_Hyperlink\": movie_hyperlink , 'Rank':ranks,})"
      ],
      "execution_count": 12,
      "outputs": []
    },
    {
      "cell_type": "code",
      "metadata": {
        "id": "JR26gC_2o2GU",
        "colab_type": "code",
        "colab": {
          "base_uri": "https://localhost:8080/",
          "height": 415
        },
        "outputId": "156447b0-1ca3-4a46-c37e-e43110844642"
      },
      "source": [
        "sm =movie_scraper(url = \"https://www.imdb.com/chart/moviemeter/\")\n",
        "sm"
      ],
      "execution_count": 13,
      "outputs": [
        {
          "output_type": "execute_result",
          "data": {
            "text/html": [
              "<div>\n",
              "<style scoped>\n",
              "    .dataframe tbody tr th:only-of-type {\n",
              "        vertical-align: middle;\n",
              "    }\n",
              "\n",
              "    .dataframe tbody tr th {\n",
              "        vertical-align: top;\n",
              "    }\n",
              "\n",
              "    .dataframe thead th {\n",
              "        text-align: right;\n",
              "    }\n",
              "</style>\n",
              "<table border=\"1\" class=\"dataframe\">\n",
              "  <thead>\n",
              "    <tr style=\"text-align: right;\">\n",
              "      <th></th>\n",
              "      <th>Title</th>\n",
              "      <th>Year</th>\n",
              "      <th>Ratings</th>\n",
              "      <th>Movie_Hyperlink</th>\n",
              "      <th>Rank</th>\n",
              "    </tr>\n",
              "  </thead>\n",
              "  <tbody>\n",
              "    <tr>\n",
              "      <th>0</th>\n",
              "      <td>365 Days</td>\n",
              "      <td>2020</td>\n",
              "      <td>3.5</td>\n",
              "      <td>https://www.imdb.com//title/tt10886166/</td>\n",
              "      <td>1</td>\n",
              "    </tr>\n",
              "    <tr>\n",
              "      <th>1</th>\n",
              "      <td>Da 5 Bloods</td>\n",
              "      <td>2020</td>\n",
              "      <td>6.7</td>\n",
              "      <td>https://www.imdb.com//title/tt9777644/</td>\n",
              "      <td>2</td>\n",
              "    </tr>\n",
              "    <tr>\n",
              "      <th>2</th>\n",
              "      <td>Artemis Fowl</td>\n",
              "      <td>2020</td>\n",
              "      <td>4.1</td>\n",
              "      <td>https://www.imdb.com//title/tt3089630/</td>\n",
              "      <td>3</td>\n",
              "    </tr>\n",
              "    <tr>\n",
              "      <th>3</th>\n",
              "      <td>The King of Staten Island</td>\n",
              "      <td>2020</td>\n",
              "      <td>7.2</td>\n",
              "      <td>https://www.imdb.com//title/tt9686708/</td>\n",
              "      <td>4</td>\n",
              "    </tr>\n",
              "    <tr>\n",
              "      <th>4</th>\n",
              "      <td>Knives Out</td>\n",
              "      <td>2019</td>\n",
              "      <td>7.9</td>\n",
              "      <td>https://www.imdb.com//title/tt8946378/</td>\n",
              "      <td>5</td>\n",
              "    </tr>\n",
              "    <tr>\n",
              "      <th>...</th>\n",
              "      <td>...</td>\n",
              "      <td>...</td>\n",
              "      <td>...</td>\n",
              "      <td>...</td>\n",
              "      <td>...</td>\n",
              "    </tr>\n",
              "    <tr>\n",
              "      <th>95</th>\n",
              "      <td>The Rising Hawk</td>\n",
              "      <td>2019</td>\n",
              "      <td>6.2</td>\n",
              "      <td>https://www.imdb.com//title/tt7439064/</td>\n",
              "      <td>96</td>\n",
              "    </tr>\n",
              "    <tr>\n",
              "      <th>96</th>\n",
              "      <td>Bloodshot</td>\n",
              "      <td>2020</td>\n",
              "      <td>5.7</td>\n",
              "      <td>https://www.imdb.com//title/tt1634106/</td>\n",
              "      <td>97</td>\n",
              "    </tr>\n",
              "    <tr>\n",
              "      <th>97</th>\n",
              "      <td>The Room</td>\n",
              "      <td>2003</td>\n",
              "      <td>3.7</td>\n",
              "      <td>https://www.imdb.com//title/tt0368226/</td>\n",
              "      <td>98</td>\n",
              "    </tr>\n",
              "    <tr>\n",
              "      <th>98</th>\n",
              "      <td>Emma.</td>\n",
              "      <td>2020</td>\n",
              "      <td>6.8</td>\n",
              "      <td>https://www.imdb.com//title/tt9214832/</td>\n",
              "      <td>99</td>\n",
              "    </tr>\n",
              "    <tr>\n",
              "      <th>99</th>\n",
              "      <td>Onward</td>\n",
              "      <td>2020</td>\n",
              "      <td>7.5</td>\n",
              "      <td>https://www.imdb.com//title/tt7146812/</td>\n",
              "      <td>100</td>\n",
              "    </tr>\n",
              "  </tbody>\n",
              "</table>\n",
              "<p>100 rows × 5 columns</p>\n",
              "</div>"
            ],
            "text/plain": [
              "                        Title  ... Rank\n",
              "0                    365 Days  ...    1\n",
              "1                 Da 5 Bloods  ...    2\n",
              "2                Artemis Fowl  ...    3\n",
              "3   The King of Staten Island  ...    4\n",
              "4                  Knives Out  ...    5\n",
              "..                        ...  ...  ...\n",
              "95            The Rising Hawk  ...   96\n",
              "96                  Bloodshot  ...   97\n",
              "97                   The Room  ...   98\n",
              "98                      Emma.  ...   99\n",
              "99                     Onward  ...  100\n",
              "\n",
              "[100 rows x 5 columns]"
            ]
          },
          "metadata": {
            "tags": []
          },
          "execution_count": 13
        }
      ]
    },
    {
      "cell_type": "code",
      "metadata": {
        "id": "GuBCk9O5pKVm",
        "colab_type": "code",
        "colab": {}
      },
      "source": [
        ""
      ],
      "execution_count": null,
      "outputs": []
    }
  ]
}