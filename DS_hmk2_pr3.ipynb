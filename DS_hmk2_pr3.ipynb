{
  "nbformat": 4,
  "nbformat_minor": 0,
  "metadata": {
    "colab": {
      "name": "DS hmk2 pr3.ipynb",
      "provenance": []
    },
    "kernelspec": {
      "name": "python3",
      "display_name": "Python 3"
    }
  },
  "cells": [
    {
      "cell_type": "code",
      "metadata": {
        "id": "sP6_XmIEmoVq",
        "colab_type": "code",
        "colab": {
          "base_uri": "https://localhost:8080/",
          "height": 468
        },
        "outputId": "e5d44709-0cf3-4262-d512-4f20811982db"
      },
      "source": [
        "!pip install scrapy"
      ],
      "execution_count": 36,
      "outputs": [
        {
          "output_type": "stream",
          "text": [
            "Requirement already satisfied: scrapy in /usr/local/lib/python3.6/dist-packages (2.1.0)\n",
            "Requirement already satisfied: lxml>=3.5.0 in /usr/local/lib/python3.6/dist-packages (from scrapy) (4.2.6)\n",
            "Requirement already satisfied: protego>=0.1.15 in /usr/local/lib/python3.6/dist-packages (from scrapy) (0.1.16)\n",
            "Requirement already satisfied: pyOpenSSL>=16.2.0 in /usr/local/lib/python3.6/dist-packages (from scrapy) (19.1.0)\n",
            "Requirement already satisfied: Twisted>=17.9.0 in /usr/local/lib/python3.6/dist-packages (from scrapy) (20.3.0)\n",
            "Requirement already satisfied: PyDispatcher>=2.0.5 in /usr/local/lib/python3.6/dist-packages (from scrapy) (2.0.5)\n",
            "Requirement already satisfied: queuelib>=1.4.2 in /usr/local/lib/python3.6/dist-packages (from scrapy) (1.5.0)\n",
            "Requirement already satisfied: cssselect>=0.9.1 in /usr/local/lib/python3.6/dist-packages (from scrapy) (1.1.0)\n",
            "Requirement already satisfied: service-identity>=16.0.0 in /usr/local/lib/python3.6/dist-packages (from scrapy) (18.1.0)\n",
            "Requirement already satisfied: zope.interface>=4.1.3 in /usr/local/lib/python3.6/dist-packages (from scrapy) (5.1.0)\n",
            "Requirement already satisfied: w3lib>=1.17.0 in /usr/local/lib/python3.6/dist-packages (from scrapy) (1.22.0)\n",
            "Requirement already satisfied: cryptography>=2.0 in /usr/local/lib/python3.6/dist-packages (from scrapy) (2.9.2)\n",
            "Requirement already satisfied: parsel>=1.5.0 in /usr/local/lib/python3.6/dist-packages (from scrapy) (1.6.0)\n",
            "Requirement already satisfied: six in /usr/local/lib/python3.6/dist-packages (from protego>=0.1.15->scrapy) (1.12.0)\n",
            "Requirement already satisfied: Automat>=0.3.0 in /usr/local/lib/python3.6/dist-packages (from Twisted>=17.9.0->scrapy) (20.2.0)\n",
            "Requirement already satisfied: attrs>=19.2.0 in /usr/local/lib/python3.6/dist-packages (from Twisted>=17.9.0->scrapy) (19.3.0)\n",
            "Requirement already satisfied: constantly>=15.1 in /usr/local/lib/python3.6/dist-packages (from Twisted>=17.9.0->scrapy) (15.1.0)\n",
            "Requirement already satisfied: PyHamcrest!=1.10.0,>=1.9.0 in /usr/local/lib/python3.6/dist-packages (from Twisted>=17.9.0->scrapy) (2.0.2)\n",
            "Requirement already satisfied: hyperlink>=17.1.1 in /usr/local/lib/python3.6/dist-packages (from Twisted>=17.9.0->scrapy) (19.0.0)\n",
            "Requirement already satisfied: incremental>=16.10.1 in /usr/local/lib/python3.6/dist-packages (from Twisted>=17.9.0->scrapy) (17.5.0)\n",
            "Requirement already satisfied: pyasn1-modules in /usr/local/lib/python3.6/dist-packages (from service-identity>=16.0.0->scrapy) (0.2.8)\n",
            "Requirement already satisfied: pyasn1 in /usr/local/lib/python3.6/dist-packages (from service-identity>=16.0.0->scrapy) (0.4.8)\n",
            "Requirement already satisfied: setuptools in /usr/local/lib/python3.6/dist-packages (from zope.interface>=4.1.3->scrapy) (47.3.1)\n",
            "Requirement already satisfied: cffi!=1.11.3,>=1.8 in /usr/local/lib/python3.6/dist-packages (from cryptography>=2.0->scrapy) (1.14.0)\n",
            "Requirement already satisfied: idna>=2.5 in /usr/local/lib/python3.6/dist-packages (from hyperlink>=17.1.1->Twisted>=17.9.0->scrapy) (2.9)\n",
            "Requirement already satisfied: pycparser in /usr/local/lib/python3.6/dist-packages (from cffi!=1.11.3,>=1.8->cryptography>=2.0->scrapy) (2.20)\n"
          ],
          "name": "stdout"
        }
      ]
    },
    {
      "cell_type": "code",
      "metadata": {
        "id": "n-tfaIRgmKd5",
        "colab_type": "code",
        "colab": {}
      },
      "source": [
        "import time\n",
        "import requests\n",
        "import numpy as np\n",
        "import pandas as pd\n",
        "from scrapy.http import TextResponse"
      ],
      "execution_count": 37,
      "outputs": []
    },
    {
      "cell_type": "code",
      "metadata": {
        "id": "E622Z251mznV",
        "colab_type": "code",
        "colab": {}
      },
      "source": [
        "import re"
      ],
      "execution_count": 38,
      "outputs": []
    },
    {
      "cell_type": "code",
      "metadata": {
        "id": "rN8asIBEm8ar",
        "colab_type": "code",
        "colab": {}
      },
      "source": [
        "def books_scraper(url,base_url=\"http://books.toscrape.com/\"):\n",
        "    page = requests.get(url)\n",
        "    response = TextResponse(body=page.text,url=url,encoding=\"utf-8\")\n",
        "    title = response.css(\"h3 > a::attr(title)\").extract()\n",
        "    price_l = response.css(\"p.price_color::text\").extract()\n",
        "    price = [i.replace(\"A\", \"\") for i in price_l]\n",
        "    book_url = response.css(\"h3 >a::attr(href)\").extract()\n",
        "    picture_url = response.css(\"img::attr(src)\").extract()\n",
        "    star = response.css(\"p[class^='star-rating']::attr(class)\").extract()\n",
        "    star_rating = []\n",
        "    for i in star:\n",
        "        star_rating.append(i.replace(\"star-rating\", \"\"))\n",
        "    stock  =response.css(\"p.price_color ~ p[class^='instock']::attr(class)\").extract()\n",
        "    instock = [i.replace(\"availability\", \" \") for i in stock]    \n",
        "    base_url = \"http://books.toscrape.com/catalogue/\"\n",
        "    bookurl = [base_url + i for i in  book_url]\n",
        "    picurl = [base_url + i for i in picture_url]\n",
        "    return pd.DataFrame({\"Title\":title,  \"Price\":price, \"Book_urls\":bookurl, \"Image_urls\":picurl,\"Star_Rating\":star_rating,\"Instock\":instock})"
      ],
      "execution_count": 39,
      "outputs": []
    },
    {
      "cell_type": "code",
      "metadata": {
        "id": "8mtlJ5MnniP9",
        "colab_type": "code",
        "colab": {}
      },
      "source": [
        "books = []\n",
        "for i in range(1,1000):\n",
        "    pages =books_scraper(url = f\"http://books.toscrape.com/catalogue/page-{i}.html\")\n",
        "    if  pages.shape[0] == 0:\n",
        "        break\n",
        "    else:\n",
        "        books.append(pages)"
      ],
      "execution_count": 34,
      "outputs": []
    },
    {
      "cell_type": "code",
      "metadata": {
        "id": "jPGRkeRVnp6X",
        "colab_type": "code",
        "colab": {
          "base_uri": "https://localhost:8080/",
          "height": 467
        },
        "outputId": "897fcf68-371f-4610-cdc3-90631a9aff3b"
      },
      "source": [
        "books = pd.concat(books)\n",
        "books\n"
      ],
      "execution_count": 35,
      "outputs": [
        {
          "output_type": "execute_result",
          "data": {
            "text/html": [
              "<div>\n",
              "<style scoped>\n",
              "    .dataframe tbody tr th:only-of-type {\n",
              "        vertical-align: middle;\n",
              "    }\n",
              "\n",
              "    .dataframe tbody tr th {\n",
              "        vertical-align: top;\n",
              "    }\n",
              "\n",
              "    .dataframe thead th {\n",
              "        text-align: right;\n",
              "    }\n",
              "</style>\n",
              "<table border=\"1\" class=\"dataframe\">\n",
              "  <thead>\n",
              "    <tr style=\"text-align: right;\">\n",
              "      <th></th>\n",
              "      <th>Title</th>\n",
              "      <th>Price</th>\n",
              "      <th>Book_urls</th>\n",
              "      <th>Image_urls</th>\n",
              "      <th>Star_Rating</th>\n",
              "      <th>Instock</th>\n",
              "    </tr>\n",
              "  </thead>\n",
              "  <tbody>\n",
              "    <tr>\n",
              "      <th>0</th>\n",
              "      <td>A Light in the Attic</td>\n",
              "      <td>Â£51.77</td>\n",
              "      <td>http://books.toscrape.com/catalogue/a-light-in...</td>\n",
              "      <td>http://books.toscrape.com/catalogue/../media/c...</td>\n",
              "      <td>Three</td>\n",
              "      <td>instock</td>\n",
              "    </tr>\n",
              "    <tr>\n",
              "      <th>1</th>\n",
              "      <td>Tipping the Velvet</td>\n",
              "      <td>Â£53.74</td>\n",
              "      <td>http://books.toscrape.com/catalogue/tipping-th...</td>\n",
              "      <td>http://books.toscrape.com/catalogue/../media/c...</td>\n",
              "      <td>One</td>\n",
              "      <td>instock</td>\n",
              "    </tr>\n",
              "    <tr>\n",
              "      <th>2</th>\n",
              "      <td>Soumission</td>\n",
              "      <td>Â£50.10</td>\n",
              "      <td>http://books.toscrape.com/catalogue/soumission...</td>\n",
              "      <td>http://books.toscrape.com/catalogue/../media/c...</td>\n",
              "      <td>One</td>\n",
              "      <td>instock</td>\n",
              "    </tr>\n",
              "    <tr>\n",
              "      <th>3</th>\n",
              "      <td>Sharp Objects</td>\n",
              "      <td>Â£47.82</td>\n",
              "      <td>http://books.toscrape.com/catalogue/sharp-obje...</td>\n",
              "      <td>http://books.toscrape.com/catalogue/../media/c...</td>\n",
              "      <td>Four</td>\n",
              "      <td>instock</td>\n",
              "    </tr>\n",
              "    <tr>\n",
              "      <th>4</th>\n",
              "      <td>Sapiens: A Brief History of Humankind</td>\n",
              "      <td>Â£54.23</td>\n",
              "      <td>http://books.toscrape.com/catalogue/sapiens-a-...</td>\n",
              "      <td>http://books.toscrape.com/catalogue/../media/c...</td>\n",
              "      <td>Five</td>\n",
              "      <td>instock</td>\n",
              "    </tr>\n",
              "    <tr>\n",
              "      <th>...</th>\n",
              "      <td>...</td>\n",
              "      <td>...</td>\n",
              "      <td>...</td>\n",
              "      <td>...</td>\n",
              "      <td>...</td>\n",
              "      <td>...</td>\n",
              "    </tr>\n",
              "    <tr>\n",
              "      <th>15</th>\n",
              "      <td>Alice in Wonderland (Alice's Adventures in Won...</td>\n",
              "      <td>Â£55.53</td>\n",
              "      <td>http://books.toscrape.com/catalogue/alice-in-w...</td>\n",
              "      <td>http://books.toscrape.com/catalogue/../media/c...</td>\n",
              "      <td>One</td>\n",
              "      <td>instock</td>\n",
              "    </tr>\n",
              "    <tr>\n",
              "      <th>16</th>\n",
              "      <td>Ajin: Demi-Human, Volume 1 (Ajin: Demi-Human #1)</td>\n",
              "      <td>Â£57.06</td>\n",
              "      <td>http://books.toscrape.com/catalogue/ajin-demi-...</td>\n",
              "      <td>http://books.toscrape.com/catalogue/../media/c...</td>\n",
              "      <td>Four</td>\n",
              "      <td>instock</td>\n",
              "    </tr>\n",
              "    <tr>\n",
              "      <th>17</th>\n",
              "      <td>A Spy's Devotion (The Regency Spies of London #1)</td>\n",
              "      <td>Â£16.97</td>\n",
              "      <td>http://books.toscrape.com/catalogue/a-spys-dev...</td>\n",
              "      <td>http://books.toscrape.com/catalogue/../media/c...</td>\n",
              "      <td>Five</td>\n",
              "      <td>instock</td>\n",
              "    </tr>\n",
              "    <tr>\n",
              "      <th>18</th>\n",
              "      <td>1st to Die (Women's Murder Club #1)</td>\n",
              "      <td>Â£53.98</td>\n",
              "      <td>http://books.toscrape.com/catalogue/1st-to-die...</td>\n",
              "      <td>http://books.toscrape.com/catalogue/../media/c...</td>\n",
              "      <td>One</td>\n",
              "      <td>instock</td>\n",
              "    </tr>\n",
              "    <tr>\n",
              "      <th>19</th>\n",
              "      <td>1,000 Places to See Before You Die</td>\n",
              "      <td>Â£26.08</td>\n",
              "      <td>http://books.toscrape.com/catalogue/1000-place...</td>\n",
              "      <td>http://books.toscrape.com/catalogue/../media/c...</td>\n",
              "      <td>Five</td>\n",
              "      <td>instock</td>\n",
              "    </tr>\n",
              "  </tbody>\n",
              "</table>\n",
              "<p>1000 rows × 6 columns</p>\n",
              "</div>"
            ],
            "text/plain": [
              "                                                Title  ...    Instock\n",
              "0                                A Light in the Attic  ...  instock  \n",
              "1                                  Tipping the Velvet  ...  instock  \n",
              "2                                          Soumission  ...  instock  \n",
              "3                                       Sharp Objects  ...  instock  \n",
              "4               Sapiens: A Brief History of Humankind  ...  instock  \n",
              "..                                                ...  ...        ...\n",
              "15  Alice in Wonderland (Alice's Adventures in Won...  ...  instock  \n",
              "16   Ajin: Demi-Human, Volume 1 (Ajin: Demi-Human #1)  ...  instock  \n",
              "17  A Spy's Devotion (The Regency Spies of London #1)  ...  instock  \n",
              "18                1st to Die (Women's Murder Club #1)  ...  instock  \n",
              "19                 1,000 Places to See Before You Die  ...  instock  \n",
              "\n",
              "[1000 rows x 6 columns]"
            ]
          },
          "metadata": {
            "tags": []
          },
          "execution_count": 35
        }
      ]
    },
    {
      "cell_type": "code",
      "metadata": {
        "id": "f8t5juYgwGxX",
        "colab_type": "code",
        "colab": {}
      },
      "source": [
        ""
      ],
      "execution_count": 39,
      "outputs": []
    }
  ]
}