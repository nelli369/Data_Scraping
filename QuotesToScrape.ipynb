{
  "nbformat": 4,
  "nbformat_minor": 0,
  "metadata": {
    "colab": {
      "name": "DS hmk2 pr1.ipynb",
      "provenance": []
    },
    "kernelspec": {
      "name": "python3",
      "display_name": "Python 3"
    }
  },
  "cells": [
    {
      "cell_type": "code",
      "metadata": {
        "id": "tOe55ehPjG-F",
        "colab_type": "code",
        "colab": {}
      },
      "source": [
        "import time\n",
        "import requests\n",
        "import numpy as np\n",
        "import pandas as pd\n",
        "from scrapy.http import TextResponse\n"
      ],
      "execution_count": 5,
      "outputs": []
    },
    {
      "cell_type": "code",
      "metadata": {
        "id": "f3QXRu5EjpN4",
        "colab_type": "code",
        "colab": {}
      },
      "source": [
        "import re"
      ],
      "execution_count": 6,
      "outputs": []
    },
    {
      "cell_type": "code",
      "metadata": {
        "id": "uqWNw4P4kCoe",
        "colab_type": "code",
        "colab": {}
      },
      "source": [
        "def get_request(url):\n",
        "    page = requests.get(url)\n",
        "    response = TextResponse(body=page.text,url=url,encoding=\"utf-8\")\n",
        "    return response"
      ],
      "execution_count": 7,
      "outputs": []
    },
    {
      "cell_type": "code",
      "metadata": {
        "id": "EiEP_aG8kWCK",
        "colab_type": "code",
        "colab": {}
      },
      "source": [
        "def quote_scraper(response):\n",
        "    quotes = response.css(\"div.quote > span.text::text\").extract()\n",
        "    author = response.css(\"small.author::text\").extract()\n",
        "    tags_div =response.css(\"div.tags \")\n",
        "    tags = [i.css(\"a.tag::text\").extract() for i in tags_div]\n",
        "    hyper = response.css(\"small.author ~ a::attr(href)\").extract()\n",
        "    base_link = 'http://quotes.toscrape.com'\n",
        "    hyperlink = [base_link + i for i in hyper]\n",
        "    return pd.DataFrame({\"Quotes\":quotes,\"Authors\":author,\"Tags\":tags,\"Hyperlinks\":hyperlink})"
      ],
      "execution_count": 8,
      "outputs": []
    },
    {
      "cell_type": "code",
      "metadata": {
        "id": "TdkdDos3khet",
        "colab_type": "code",
        "colab": {}
      },
      "source": [
        "pages = []\n",
        "url = \"http://quotes.toscrape.com/\""
      ],
      "execution_count": 9,
      "outputs": []
    },
    {
      "cell_type": "code",
      "metadata": {
        "id": "7WepgY3qkrhm",
        "colab_type": "code",
        "colab": {
          "base_uri": "https://localhost:8080/",
          "height": 415
        },
        "outputId": "09df28ab-f1c3-4e4d-98be-7303c04f0ff9"
      },
      "source": [
        "while True:\n",
        "    response = get_request(url)\n",
        "    pages.append(quote_scraper(response))\n",
        "    next_page_url = response.css(\"li.next > a::attr(href)\").extract_first()\n",
        "    if next_page_url:\n",
        "        url = response.urljoin(next_page_url)\n",
        "    else:\n",
        "        break\n",
        "\n",
        "pg = pd.concat(pages)\n",
        "pg"
      ],
      "execution_count": 10,
      "outputs": [
        {
          "output_type": "execute_result",
          "data": {
            "text/html": [
              "<div>\n",
              "<style scoped>\n",
              "    .dataframe tbody tr th:only-of-type {\n",
              "        vertical-align: middle;\n",
              "    }\n",
              "\n",
              "    .dataframe tbody tr th {\n",
              "        vertical-align: top;\n",
              "    }\n",
              "\n",
              "    .dataframe thead th {\n",
              "        text-align: right;\n",
              "    }\n",
              "</style>\n",
              "<table border=\"1\" class=\"dataframe\">\n",
              "  <thead>\n",
              "    <tr style=\"text-align: right;\">\n",
              "      <th></th>\n",
              "      <th>Quotes</th>\n",
              "      <th>Authors</th>\n",
              "      <th>Tags</th>\n",
              "      <th>Hyperlinks</th>\n",
              "    </tr>\n",
              "  </thead>\n",
              "  <tbody>\n",
              "    <tr>\n",
              "      <th>0</th>\n",
              "      <td>“The world as we have created it is a process ...</td>\n",
              "      <td>Albert Einstein</td>\n",
              "      <td>[change, deep-thoughts, thinking, world]</td>\n",
              "      <td>http://quotes.toscrape.com/author/Albert-Einstein</td>\n",
              "    </tr>\n",
              "    <tr>\n",
              "      <th>1</th>\n",
              "      <td>“It is our choices, Harry, that show what we t...</td>\n",
              "      <td>J.K. Rowling</td>\n",
              "      <td>[abilities, choices]</td>\n",
              "      <td>http://quotes.toscrape.com/author/J-K-Rowling</td>\n",
              "    </tr>\n",
              "    <tr>\n",
              "      <th>2</th>\n",
              "      <td>“There are only two ways to live your life. On...</td>\n",
              "      <td>Albert Einstein</td>\n",
              "      <td>[inspirational, life, live, miracle, miracles]</td>\n",
              "      <td>http://quotes.toscrape.com/author/Albert-Einstein</td>\n",
              "    </tr>\n",
              "    <tr>\n",
              "      <th>3</th>\n",
              "      <td>“The person, be it gentleman or lady, who has ...</td>\n",
              "      <td>Jane Austen</td>\n",
              "      <td>[aliteracy, books, classic, humor]</td>\n",
              "      <td>http://quotes.toscrape.com/author/Jane-Austen</td>\n",
              "    </tr>\n",
              "    <tr>\n",
              "      <th>4</th>\n",
              "      <td>“Imperfection is beauty, madness is genius and...</td>\n",
              "      <td>Marilyn Monroe</td>\n",
              "      <td>[be-yourself, inspirational]</td>\n",
              "      <td>http://quotes.toscrape.com/author/Marilyn-Monroe</td>\n",
              "    </tr>\n",
              "    <tr>\n",
              "      <th>...</th>\n",
              "      <td>...</td>\n",
              "      <td>...</td>\n",
              "      <td>...</td>\n",
              "      <td>...</td>\n",
              "    </tr>\n",
              "    <tr>\n",
              "      <th>5</th>\n",
              "      <td>“You never really understand a person until yo...</td>\n",
              "      <td>Harper Lee</td>\n",
              "      <td>[better-life-empathy]</td>\n",
              "      <td>http://quotes.toscrape.com/author/Harper-Lee</td>\n",
              "    </tr>\n",
              "    <tr>\n",
              "      <th>6</th>\n",
              "      <td>“You have to write the book that wants to be w...</td>\n",
              "      <td>Madeleine L'Engle</td>\n",
              "      <td>[books, children, difficult, grown-ups, write,...</td>\n",
              "      <td>http://quotes.toscrape.com/author/Madeleine-LE...</td>\n",
              "    </tr>\n",
              "    <tr>\n",
              "      <th>7</th>\n",
              "      <td>“Never tell the truth to people who are not wo...</td>\n",
              "      <td>Mark Twain</td>\n",
              "      <td>[truth]</td>\n",
              "      <td>http://quotes.toscrape.com/author/Mark-Twain</td>\n",
              "    </tr>\n",
              "    <tr>\n",
              "      <th>8</th>\n",
              "      <td>“A person's a person, no matter how small.”</td>\n",
              "      <td>Dr. Seuss</td>\n",
              "      <td>[inspirational]</td>\n",
              "      <td>http://quotes.toscrape.com/author/Dr-Seuss</td>\n",
              "    </tr>\n",
              "    <tr>\n",
              "      <th>9</th>\n",
              "      <td>“... a mind needs books as a sword needs a whe...</td>\n",
              "      <td>George R.R. Martin</td>\n",
              "      <td>[books, mind]</td>\n",
              "      <td>http://quotes.toscrape.com/author/George-R-R-M...</td>\n",
              "    </tr>\n",
              "  </tbody>\n",
              "</table>\n",
              "<p>100 rows × 4 columns</p>\n",
              "</div>"
            ],
            "text/plain": [
              "                                               Quotes  ...                                         Hyperlinks\n",
              "0   “The world as we have created it is a process ...  ...  http://quotes.toscrape.com/author/Albert-Einstein\n",
              "1   “It is our choices, Harry, that show what we t...  ...      http://quotes.toscrape.com/author/J-K-Rowling\n",
              "2   “There are only two ways to live your life. On...  ...  http://quotes.toscrape.com/author/Albert-Einstein\n",
              "3   “The person, be it gentleman or lady, who has ...  ...      http://quotes.toscrape.com/author/Jane-Austen\n",
              "4   “Imperfection is beauty, madness is genius and...  ...   http://quotes.toscrape.com/author/Marilyn-Monroe\n",
              "..                                                ...  ...                                                ...\n",
              "5   “You never really understand a person until yo...  ...       http://quotes.toscrape.com/author/Harper-Lee\n",
              "6   “You have to write the book that wants to be w...  ...  http://quotes.toscrape.com/author/Madeleine-LE...\n",
              "7   “Never tell the truth to people who are not wo...  ...       http://quotes.toscrape.com/author/Mark-Twain\n",
              "8         “A person's a person, no matter how small.”  ...         http://quotes.toscrape.com/author/Dr-Seuss\n",
              "9   “... a mind needs books as a sword needs a whe...  ...  http://quotes.toscrape.com/author/George-R-R-M...\n",
              "\n",
              "[100 rows x 4 columns]"
            ]
          },
          "metadata": {
            "tags": []
          },
          "execution_count": 10
        }
      ]
    },
    {
      "cell_type": "code",
      "metadata": {
        "id": "Wx274f56lR42",
        "colab_type": "code",
        "colab": {}
      },
      "source": [
        ""
      ],
      "execution_count": 10,
      "outputs": []
    }
  ]
}
