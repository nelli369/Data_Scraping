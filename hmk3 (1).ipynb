{
  "nbformat": 4,
  "nbformat_minor": 0,
  "metadata": {
    "colab": {
      "name": "hmk3.ipynb",
      "provenance": []
    },
    "kernelspec": {
      "name": "python3",
      "display_name": "Python 3"
    }
  },
  "cells": [
    {
      "cell_type": "code",
      "metadata": {
        "id": "f7RuXB2IBijd",
        "colab_type": "code",
        "colab": {}
      },
      "source": [
        "import time\n",
        "import requests\n",
        "import numpy as np\n",
        "import pandas as pd\n",
        "from scrapy.http import TextResponse\n",
        "import re"
      ],
      "execution_count": 154,
      "outputs": []
    },
    {
      "cell_type": "markdown",
      "metadata": {
        "id": "7WoqxVz9Rak9",
        "colab_type": "text"
      },
      "source": [
        "Problem 1\n"
      ]
    },
    {
      "cell_type": "code",
      "metadata": {
        "id": "nYIM2vltBuVK",
        "colab_type": "code",
        "colab": {}
      },
      "source": [
        "def books_scraper(url,base_url=\"http://books.toscrape.com/\"):\n",
        "    page = requests.get(url)\n",
        "    response = TextResponse(body=page.text,url=url,encoding=\"utf-8\") \n",
        "    prices = response.css(\"p.price_color::text\").extract()\n",
        "    price = [float(i.replace(\"Â£\", \"\")) for i in prices]\n",
        "    book_url = response.css(\"h3 >a::attr(href)\").extract()\n",
        "    pic_url = response.css(\"img::attr(src)\").extract()\n",
        "    star = response.css(\"p[class^='star-rating']::attr(class)\").extract()\n",
        "    star_rating = []\n",
        "    for i in star:\n",
        "        star_rating.append(i.replace(\"star-rating\", \"\"))   \n",
        "    base_url = \"http://books.toscrape.com/catalogue/\"\n",
        "    bookurl = [base_url + i for i in book_url]\n",
        "    picurl = [base_url + i for i in pic_url]\n",
        "    genere = []\n",
        "    desc = []\n",
        "    for i in bookurl:\n",
        "        page = requests.get(i)\n",
        "        response = TextResponse(body=page.text,url=i,encoding=\"utf-8\")\n",
        "        genere.append(response.css(\"li~li~li > a::text\")[0].extract())\n",
        "        desc.append(response.css(\"article[class='product_page'] > p::text\").extract_first())\n",
        "    \n",
        "    return pd.DataFrame({  \"Price\":price, \"BooksHyperlinks\":bookurl, \"PicsHyperlinks\":picurl,\"Star_Ratings\":star_rating,'Generes':genere,\"AboutBook\":desc})"
      ],
      "execution_count": 155,
      "outputs": []
    },
    {
      "cell_type": "code",
      "metadata": {
        "id": "1UalnZj7B0OW",
        "colab_type": "code",
        "colab": {}
      },
      "source": [
        "books = []\n",
        "for i in range(1,100):\n",
        "    cureent_page =books_scraper(url = f\"http://books.toscrape.com/catalogue/page-{i}.html\")\n",
        "    if cureent_page.shape[0] == 0:\n",
        "        break\n",
        "    else:\n",
        "        books.append(cureent_page)"
      ],
      "execution_count": 156,
      "outputs": []
    },
    {
      "cell_type": "code",
      "metadata": {
        "id": "R4_Fz_jpB5bb",
        "colab_type": "code",
        "colab": {
          "base_uri": "https://localhost:8080/",
          "height": 571
        },
        "outputId": "f82d6d56-5746-4ba0-91ee-59155a894ebb"
      },
      "source": [
        "books = pd.concat(books)\n",
        "books"
      ],
      "execution_count": 157,
      "outputs": [
        {
          "output_type": "execute_result",
          "data": {
            "text/html": [
              "<div>\n",
              "<style scoped>\n",
              "    .dataframe tbody tr th:only-of-type {\n",
              "        vertical-align: middle;\n",
              "    }\n",
              "\n",
              "    .dataframe tbody tr th {\n",
              "        vertical-align: top;\n",
              "    }\n",
              "\n",
              "    .dataframe thead th {\n",
              "        text-align: right;\n",
              "    }\n",
              "</style>\n",
              "<table border=\"1\" class=\"dataframe\">\n",
              "  <thead>\n",
              "    <tr style=\"text-align: right;\">\n",
              "      <th></th>\n",
              "      <th>Price</th>\n",
              "      <th>BooksHyperlinks</th>\n",
              "      <th>PicsHyperlinks</th>\n",
              "      <th>Star_Ratings</th>\n",
              "      <th>Generes</th>\n",
              "      <th>AboutBook</th>\n",
              "    </tr>\n",
              "  </thead>\n",
              "  <tbody>\n",
              "    <tr>\n",
              "      <th>0</th>\n",
              "      <td>51.77</td>\n",
              "      <td>http://books.toscrape.com/catalogue/a-light-in...</td>\n",
              "      <td>http://books.toscrape.com/catalogue/../media/c...</td>\n",
              "      <td>Three</td>\n",
              "      <td>Poetry</td>\n",
              "      <td>It's hard to imagine a world without A Light i...</td>\n",
              "    </tr>\n",
              "    <tr>\n",
              "      <th>1</th>\n",
              "      <td>53.74</td>\n",
              "      <td>http://books.toscrape.com/catalogue/tipping-th...</td>\n",
              "      <td>http://books.toscrape.com/catalogue/../media/c...</td>\n",
              "      <td>One</td>\n",
              "      <td>Historical Fiction</td>\n",
              "      <td>\"Erotic and absorbing...Written with starling ...</td>\n",
              "    </tr>\n",
              "    <tr>\n",
              "      <th>2</th>\n",
              "      <td>50.10</td>\n",
              "      <td>http://books.toscrape.com/catalogue/soumission...</td>\n",
              "      <td>http://books.toscrape.com/catalogue/../media/c...</td>\n",
              "      <td>One</td>\n",
              "      <td>Fiction</td>\n",
              "      <td>Dans une France assez proche de la nÃ´tre, un ...</td>\n",
              "    </tr>\n",
              "    <tr>\n",
              "      <th>3</th>\n",
              "      <td>47.82</td>\n",
              "      <td>http://books.toscrape.com/catalogue/sharp-obje...</td>\n",
              "      <td>http://books.toscrape.com/catalogue/../media/c...</td>\n",
              "      <td>Four</td>\n",
              "      <td>Mystery</td>\n",
              "      <td>WICKED above her hipbone, GIRL across her hear...</td>\n",
              "    </tr>\n",
              "    <tr>\n",
              "      <th>4</th>\n",
              "      <td>54.23</td>\n",
              "      <td>http://books.toscrape.com/catalogue/sapiens-a-...</td>\n",
              "      <td>http://books.toscrape.com/catalogue/../media/c...</td>\n",
              "      <td>Five</td>\n",
              "      <td>History</td>\n",
              "      <td>From a renowned historian comes a groundbreaki...</td>\n",
              "    </tr>\n",
              "    <tr>\n",
              "      <th>...</th>\n",
              "      <td>...</td>\n",
              "      <td>...</td>\n",
              "      <td>...</td>\n",
              "      <td>...</td>\n",
              "      <td>...</td>\n",
              "      <td>...</td>\n",
              "    </tr>\n",
              "    <tr>\n",
              "      <th>15</th>\n",
              "      <td>55.53</td>\n",
              "      <td>http://books.toscrape.com/catalogue/alice-in-w...</td>\n",
              "      <td>http://books.toscrape.com/catalogue/../media/c...</td>\n",
              "      <td>One</td>\n",
              "      <td>Classics</td>\n",
              "      <td>None</td>\n",
              "    </tr>\n",
              "    <tr>\n",
              "      <th>16</th>\n",
              "      <td>57.06</td>\n",
              "      <td>http://books.toscrape.com/catalogue/ajin-demi-...</td>\n",
              "      <td>http://books.toscrape.com/catalogue/../media/c...</td>\n",
              "      <td>Four</td>\n",
              "      <td>Sequential Art</td>\n",
              "      <td>High school student Kei Nagai is struck dead i...</td>\n",
              "    </tr>\n",
              "    <tr>\n",
              "      <th>17</th>\n",
              "      <td>16.97</td>\n",
              "      <td>http://books.toscrape.com/catalogue/a-spys-dev...</td>\n",
              "      <td>http://books.toscrape.com/catalogue/../media/c...</td>\n",
              "      <td>Five</td>\n",
              "      <td>Historical Fiction</td>\n",
              "      <td>In Englandâs Regency era, manners and elegan...</td>\n",
              "    </tr>\n",
              "    <tr>\n",
              "      <th>18</th>\n",
              "      <td>53.98</td>\n",
              "      <td>http://books.toscrape.com/catalogue/1st-to-die...</td>\n",
              "      <td>http://books.toscrape.com/catalogue/../media/c...</td>\n",
              "      <td>One</td>\n",
              "      <td>Mystery</td>\n",
              "      <td>James Patterson, bestselling author of the Ale...</td>\n",
              "    </tr>\n",
              "    <tr>\n",
              "      <th>19</th>\n",
              "      <td>26.08</td>\n",
              "      <td>http://books.toscrape.com/catalogue/1000-place...</td>\n",
              "      <td>http://books.toscrape.com/catalogue/../media/c...</td>\n",
              "      <td>Five</td>\n",
              "      <td>Travel</td>\n",
              "      <td>Around the World, continent by continent, here...</td>\n",
              "    </tr>\n",
              "  </tbody>\n",
              "</table>\n",
              "<p>1000 rows × 6 columns</p>\n",
              "</div>"
            ],
            "text/plain": [
              "    Price  ...                                          AboutBook\n",
              "0   51.77  ...  It's hard to imagine a world without A Light i...\n",
              "1   53.74  ...  \"Erotic and absorbing...Written with starling ...\n",
              "2   50.10  ...  Dans une France assez proche de la nÃ´tre, un ...\n",
              "3   47.82  ...  WICKED above her hipbone, GIRL across her hear...\n",
              "4   54.23  ...  From a renowned historian comes a groundbreaki...\n",
              "..    ...  ...                                                ...\n",
              "15  55.53  ...                                               None\n",
              "16  57.06  ...  High school student Kei Nagai is struck dead i...\n",
              "17  16.97  ...  In Englandâs Regency era, manners and elegan...\n",
              "18  53.98  ...  James Patterson, bestselling author of the Ale...\n",
              "19  26.08  ...  Around the World, continent by continent, here...\n",
              "\n",
              "[1000 rows x 6 columns]"
            ]
          },
          "metadata": {
            "tags": []
          },
          "execution_count": 157
        }
      ]
    },
    {
      "cell_type": "code",
      "metadata": {
        "id": "gwKmnx8rCMCc",
        "colab_type": "code",
        "colab": {}
      },
      "source": [
        "books.to_csv('books.csv', index=False)"
      ],
      "execution_count": 158,
      "outputs": []
    },
    {
      "cell_type": "code",
      "metadata": {
        "id": "-ZZkVXgMCcQ1",
        "colab_type": "code",
        "colab": {}
      },
      "source": [
        "books.to_csv('books.csv', index=False)"
      ],
      "execution_count": 159,
      "outputs": []
    },
    {
      "cell_type": "code",
      "metadata": {
        "id": "xOK38mHbC7Pm",
        "colab_type": "code",
        "colab": {
          "base_uri": "https://localhost:8080/",
          "height": 35
        },
        "outputId": "64ea7d09-3b3d-4043-c2e1-31e4bb2dcecb"
      },
      "source": [
        "books[\"Price\"].max()"
      ],
      "execution_count": 160,
      "outputs": [
        {
          "output_type": "execute_result",
          "data": {
            "text/plain": [
              "59.99"
            ]
          },
          "metadata": {
            "tags": []
          },
          "execution_count": 160
        }
      ]
    },
    {
      "cell_type": "code",
      "metadata": {
        "id": "3-dqux1BC9b3",
        "colab_type": "code",
        "colab": {
          "base_uri": "https://localhost:8080/",
          "height": 52
        },
        "outputId": "c3134969-f9c5-477f-db16-1b96fd8ccca5"
      },
      "source": [
        "books[books['Price'] == books['Price'].max()]['Generes']"
      ],
      "execution_count": 161,
      "outputs": [
        {
          "output_type": "execute_result",
          "data": {
            "text/plain": [
              "8    Romance\n",
              "Name: Generes, dtype: object"
            ]
          },
          "metadata": {
            "tags": []
          },
          "execution_count": 161
        }
      ]
    },
    {
      "cell_type": "code",
      "metadata": {
        "id": "g2V1iTUXDBr5",
        "colab_type": "code",
        "colab": {
          "base_uri": "https://localhost:8080/",
          "height": 121
        },
        "outputId": "ba44b99e-0374-4098-86e9-8eb76c7cf365"
      },
      "source": [
        "books['Star_Ratings'].value_counts()"
      ],
      "execution_count": 162,
      "outputs": [
        {
          "output_type": "execute_result",
          "data": {
            "text/plain": [
              " One      226\n",
              " Three    203\n",
              " Five     196\n",
              " Two      196\n",
              " Four     179\n",
              "Name: Star_Ratings, dtype: int64"
            ]
          },
          "metadata": {
            "tags": []
          },
          "execution_count": 162
        }
      ]
    },
    {
      "cell_type": "code",
      "metadata": {
        "id": "wBp1CR0iDEF8",
        "colab_type": "code",
        "colab": {}
      },
      "source": [
        "rating_map = {\n",
        "    'Two': 2,\n",
        "    'One': 1,\n",
        "    'Five': 5,\n",
        "    'Four': 4,\n",
        "    'Three': 3\n",
        "}"
      ],
      "execution_count": 163,
      "outputs": []
    },
    {
      "cell_type": "code",
      "metadata": {
        "id": "4gbaN0D8DOHf",
        "colab_type": "code",
        "colab": {}
      },
      "source": [
        "books['Star_Ratings'] = books['Star_Ratings'].apply(lambda x: x.strip())"
      ],
      "execution_count": 164,
      "outputs": []
    },
    {
      "cell_type": "code",
      "metadata": {
        "id": "9ireXVVhDTWv",
        "colab_type": "code",
        "colab": {}
      },
      "source": [
        "books['Star_Ratings'] =books['Star_Ratings'].replace(rating_map)"
      ],
      "execution_count": 165,
      "outputs": []
    },
    {
      "cell_type": "code",
      "metadata": {
        "id": "9f8R7AVvDWvu",
        "colab_type": "code",
        "colab": {
          "base_uri": "https://localhost:8080/",
          "height": 110
        },
        "outputId": "3c5fc663-cada-462e-d8d3-799eb2457c1c"
      },
      "source": [
        "books.corr()"
      ],
      "execution_count": 166,
      "outputs": [
        {
          "output_type": "execute_result",
          "data": {
            "text/html": [
              "<div>\n",
              "<style scoped>\n",
              "    .dataframe tbody tr th:only-of-type {\n",
              "        vertical-align: middle;\n",
              "    }\n",
              "\n",
              "    .dataframe tbody tr th {\n",
              "        vertical-align: top;\n",
              "    }\n",
              "\n",
              "    .dataframe thead th {\n",
              "        text-align: right;\n",
              "    }\n",
              "</style>\n",
              "<table border=\"1\" class=\"dataframe\">\n",
              "  <thead>\n",
              "    <tr style=\"text-align: right;\">\n",
              "      <th></th>\n",
              "      <th>Price</th>\n",
              "      <th>Star_Ratings</th>\n",
              "    </tr>\n",
              "  </thead>\n",
              "  <tbody>\n",
              "    <tr>\n",
              "      <th>Price</th>\n",
              "      <td>1.000000</td>\n",
              "      <td>0.028166</td>\n",
              "    </tr>\n",
              "    <tr>\n",
              "      <th>Star_Ratings</th>\n",
              "      <td>0.028166</td>\n",
              "      <td>1.000000</td>\n",
              "    </tr>\n",
              "  </tbody>\n",
              "</table>\n",
              "</div>"
            ],
            "text/plain": [
              "                 Price  Star_Ratings\n",
              "Price         1.000000      0.028166\n",
              "Star_Ratings  0.028166      1.000000"
            ]
          },
          "metadata": {
            "tags": []
          },
          "execution_count": 166
        }
      ]
    },
    {
      "cell_type": "code",
      "metadata": {
        "id": "AP1PXM2YDZGX",
        "colab_type": "code",
        "colab": {
          "base_uri": "https://localhost:8080/",
          "height": 139
        },
        "outputId": "f2d76362-a5f1-4ffd-c631-ed2895a5ab6e"
      },
      "source": [
        "books.groupby('Star_Ratings').mean()['Price']"
      ],
      "execution_count": 167,
      "outputs": [
        {
          "output_type": "execute_result",
          "data": {
            "text/plain": [
              "Star_Ratings\n",
              "1    34.561195\n",
              "2    34.810918\n",
              "3    34.692020\n",
              "4    36.093296\n",
              "5    35.374490\n",
              "Name: Price, dtype: float64"
            ]
          },
          "metadata": {
            "tags": []
          },
          "execution_count": 167
        }
      ]
    },
    {
      "cell_type": "markdown",
      "metadata": {
        "id": "Gi-Su-ZVRiaB",
        "colab_type": "text"
      },
      "source": [
        "Problem 2"
      ]
    },
    {
      "cell_type": "code",
      "metadata": {
        "id": "k3qSZZAVDdCv",
        "colab_type": "code",
        "colab": {}
      },
      "source": [
        "def jobs_scraper(url):\n",
        "    page = requests.get(url)\n",
        "    response = TextResponse(body=page.text,url=url,encoding=\"utf-8\")\n",
        "    companies_name = response.xpath(\"//p[@class='job_list_company_title']/text()\").extract()\n",
        "    vac_name = response.xpath(\"//p[@class='font_bold']/text()\").extract()\n",
        "    base_url = \"https://staff.am\"\n",
        "    urls = response.xpath(\"//div[@class='web_item_card hs_job_list_item']/a/@href\").extract()\n",
        "    vacs_url = [base_url + i for i in urls]\n",
        "    deadline1 = response.css(\"div[class = 'job-inner job-list-deadline'] >p:not([class='job_location'])\")\n",
        "    deadline2 =[i.css('::text').extract()[1] for i in deadline1]\n",
        "    deadline = [i.replace('\\n',\" \") for i in deadline2]\n",
        "    location1 = response.css(\"div[class = 'job-inner job-list-deadline'] >p[class='job_location']\")\n",
        "    location2 = [i.css(\"::text\").extract()[1] for i in location1]\n",
        "    location = [i.replace('\\n',\"\").strip() for i in location2]\n",
        "    return pd.DataFrame({\"Companies\":companies_name,\"Vacancies\":vac_name,'Links':vacs_url,\"Deadline\":deadline,'Location':location})"
      ],
      "execution_count": 168,
      "outputs": []
    },
    {
      "cell_type": "code",
      "metadata": {
        "id": "cnDGFPB3RuJv",
        "colab_type": "code",
        "colab": {}
      },
      "source": [
        "jobs = []\n",
        "for i in range(1,100):\n",
        "    cureent_page =jobs_scraper(url = f\"https://staff.am/en/jobs?page={i}&per-page=50\")\n",
        "    if cureent_page.shape[0] == 0:\n",
        "        break\n",
        "    else:\n",
        "        jobs.append(cureent_page)"
      ],
      "execution_count": 169,
      "outputs": []
    },
    {
      "cell_type": "code",
      "metadata": {
        "id": "1mW0vOPYR0bh",
        "colab_type": "code",
        "colab": {
          "base_uri": "https://localhost:8080/",
          "height": 415
        },
        "outputId": "46647470-73a4-404d-8833-0911df96e80d"
      },
      "source": [
        "jobs= pd.concat(jobs)\n",
        "jobs"
      ],
      "execution_count": 170,
      "outputs": [
        {
          "output_type": "execute_result",
          "data": {
            "text/html": [
              "<div>\n",
              "<style scoped>\n",
              "    .dataframe tbody tr th:only-of-type {\n",
              "        vertical-align: middle;\n",
              "    }\n",
              "\n",
              "    .dataframe tbody tr th {\n",
              "        vertical-align: top;\n",
              "    }\n",
              "\n",
              "    .dataframe thead th {\n",
              "        text-align: right;\n",
              "    }\n",
              "</style>\n",
              "<table border=\"1\" class=\"dataframe\">\n",
              "  <thead>\n",
              "    <tr style=\"text-align: right;\">\n",
              "      <th></th>\n",
              "      <th>Companies</th>\n",
              "      <th>Vacancies</th>\n",
              "      <th>Links</th>\n",
              "      <th>Deadline</th>\n",
              "      <th>Location</th>\n",
              "    </tr>\n",
              "  </thead>\n",
              "  <tbody>\n",
              "    <tr>\n",
              "      <th>0</th>\n",
              "      <td>Workfront Armenia</td>\n",
              "      <td>Senior Software Engineer</td>\n",
              "      <td>https://staff.am/en/senior-software-engineer-73</td>\n",
              "      <td>31 July 2020</td>\n",
              "      <td>Yerevan</td>\n",
              "    </tr>\n",
              "    <tr>\n",
              "      <th>1</th>\n",
              "      <td>Fast Shift LLC</td>\n",
              "      <td>React.js Developer</td>\n",
              "      <td>https://staff.am/en/reactjs-developer-93</td>\n",
              "      <td>31 July 2020</td>\n",
              "      <td>Yerevan</td>\n",
              "    </tr>\n",
              "    <tr>\n",
              "      <th>2</th>\n",
              "      <td>Veolia Armenia</td>\n",
              "      <td>HR Specialist</td>\n",
              "      <td>https://staff.am/en/hr-specialist-108</td>\n",
              "      <td>31 July 2020</td>\n",
              "      <td>Yerevan</td>\n",
              "    </tr>\n",
              "    <tr>\n",
              "      <th>3</th>\n",
              "      <td>Webb Fontaine Holding LLC</td>\n",
              "      <td>Scrum Master</td>\n",
              "      <td>https://staff.am/en/scrum-master-95</td>\n",
              "      <td>24 July 2020</td>\n",
              "      <td>Yerevan</td>\n",
              "    </tr>\n",
              "    <tr>\n",
              "      <th>4</th>\n",
              "      <td>Digitain</td>\n",
              "      <td>Digital Marketing Manager</td>\n",
              "      <td>https://staff.am/en/digital-marketing-manager-39</td>\n",
              "      <td>31 July 2020</td>\n",
              "      <td>Yerevan</td>\n",
              "    </tr>\n",
              "    <tr>\n",
              "      <th>...</th>\n",
              "      <td>...</td>\n",
              "      <td>...</td>\n",
              "      <td>...</td>\n",
              "      <td>...</td>\n",
              "      <td>...</td>\n",
              "    </tr>\n",
              "    <tr>\n",
              "      <th>3</th>\n",
              "      <td>ServiceTitan</td>\n",
              "      <td>Senior Software Engineer</td>\n",
              "      <td>https://staff.am/en/senior-software-engineer-76</td>\n",
              "      <td>03 July 2020</td>\n",
              "      <td>Yerevan</td>\n",
              "    </tr>\n",
              "    <tr>\n",
              "      <th>4</th>\n",
              "      <td>ServiceTitan</td>\n",
              "      <td>Senior Software Engineer, Front-End</td>\n",
              "      <td>https://staff.am/en/sr-software-engineer-front...</td>\n",
              "      <td>03 July 2020</td>\n",
              "      <td>Yerevan</td>\n",
              "    </tr>\n",
              "    <tr>\n",
              "      <th>5</th>\n",
              "      <td>ServiceTitan</td>\n",
              "      <td>Senior Site Reliability Engineer</td>\n",
              "      <td>https://staff.am/en/senior-site-reliability-en...</td>\n",
              "      <td>15 July 2020</td>\n",
              "      <td>Yerevan</td>\n",
              "    </tr>\n",
              "    <tr>\n",
              "      <th>6</th>\n",
              "      <td>ServiceTitan</td>\n",
              "      <td>Lead Software Engineer</td>\n",
              "      <td>https://staff.am/en/lead-software-engineer</td>\n",
              "      <td>05 July 2020</td>\n",
              "      <td>Yerevan</td>\n",
              "    </tr>\n",
              "    <tr>\n",
              "      <th>7</th>\n",
              "      <td>ServiceTitan</td>\n",
              "      <td>QA Automation Engineer</td>\n",
              "      <td>https://staff.am/en/qa-automation-engineer-91</td>\n",
              "      <td>05 July 2020</td>\n",
              "      <td>Yerevan</td>\n",
              "    </tr>\n",
              "  </tbody>\n",
              "</table>\n",
              "<p>558 rows × 5 columns</p>\n",
              "</div>"
            ],
            "text/plain": [
              "                    Companies  ... Location\n",
              "0           Workfront Armenia  ...  Yerevan\n",
              "1              Fast Shift LLC  ...  Yerevan\n",
              "2              Veolia Armenia  ...  Yerevan\n",
              "3   Webb Fontaine Holding LLC  ...  Yerevan\n",
              "4                   Digitain   ...  Yerevan\n",
              "..                        ...  ...      ...\n",
              "3                ServiceTitan  ...  Yerevan\n",
              "4                ServiceTitan  ...  Yerevan\n",
              "5                ServiceTitan  ...  Yerevan\n",
              "6                ServiceTitan  ...  Yerevan\n",
              "7                ServiceTitan  ...  Yerevan\n",
              "\n",
              "[558 rows x 5 columns]"
            ]
          },
          "metadata": {
            "tags": []
          },
          "execution_count": 170
        }
      ]
    },
    {
      "cell_type": "code",
      "metadata": {
        "id": "3C5D92mRRywG",
        "colab_type": "code",
        "colab": {
          "base_uri": "https://localhost:8080/",
          "height": 225
        },
        "outputId": "966b7518-9310-411a-ee34-9fa0754b2aeb"
      },
      "source": [
        "jobs['Companies'].value_counts()"
      ],
      "execution_count": 171,
      "outputs": [
        {
          "output_type": "execute_result",
          "data": {
            "text/plain": [
              "Digitain              33\n",
              "SoftConstruct         23\n",
              "PicsArt               22\n",
              "ServiceTitan          15\n",
              "TeamViewer Armenia    12\n",
              "                      ..\n",
              "Medline Clinic LLC     1\n",
              "BeSofted Group         1\n",
              "«Teghout» CJSC         1\n",
              "Մեգա Ֆուդ ՍՊԸ          1\n",
              "TT soft                1\n",
              "Name: Companies, Length: 230, dtype: int64"
            ]
          },
          "metadata": {
            "tags": []
          },
          "execution_count": 171
        }
      ]
    },
    {
      "cell_type": "code",
      "metadata": {
        "id": "mwF84WDXR8kF",
        "colab_type": "code",
        "colab": {
          "base_uri": "https://localhost:8080/",
          "height": 325
        },
        "outputId": "de2fbaac-20e2-47e3-eb95-2b57dcc79135"
      },
      "source": [
        "jobs[jobs['Vacancies'].str.contains(\"Data\")]"
      ],
      "execution_count": 172,
      "outputs": [
        {
          "output_type": "execute_result",
          "data": {
            "text/html": [
              "<div>\n",
              "<style scoped>\n",
              "    .dataframe tbody tr th:only-of-type {\n",
              "        vertical-align: middle;\n",
              "    }\n",
              "\n",
              "    .dataframe tbody tr th {\n",
              "        vertical-align: top;\n",
              "    }\n",
              "\n",
              "    .dataframe thead th {\n",
              "        text-align: right;\n",
              "    }\n",
              "</style>\n",
              "<table border=\"1\" class=\"dataframe\">\n",
              "  <thead>\n",
              "    <tr style=\"text-align: right;\">\n",
              "      <th></th>\n",
              "      <th>Companies</th>\n",
              "      <th>Vacancies</th>\n",
              "      <th>Links</th>\n",
              "      <th>Deadline</th>\n",
              "      <th>Location</th>\n",
              "    </tr>\n",
              "  </thead>\n",
              "  <tbody>\n",
              "    <tr>\n",
              "      <th>26</th>\n",
              "      <td>PicsArt</td>\n",
              "      <td>Data Scientist</td>\n",
              "      <td>https://staff.am/en/data-scientist-82</td>\n",
              "      <td>31 July 2020</td>\n",
              "      <td>Yerevan</td>\n",
              "    </tr>\n",
              "    <tr>\n",
              "      <th>27</th>\n",
              "      <td>PicsArt</td>\n",
              "      <td>Data Engineer (Spark)</td>\n",
              "      <td>https://staff.am/en/data-engineer-spark-6</td>\n",
              "      <td>31 July 2020</td>\n",
              "      <td>Yerevan</td>\n",
              "    </tr>\n",
              "    <tr>\n",
              "      <th>22</th>\n",
              "      <td>buymie</td>\n",
              "      <td>Data analyst</td>\n",
              "      <td>https://staff.am/en/data-analyst-53</td>\n",
              "      <td>24 July 2020</td>\n",
              "      <td>Yerevan</td>\n",
              "    </tr>\n",
              "    <tr>\n",
              "      <th>46</th>\n",
              "      <td>Webb Fontaine Holding LLC</td>\n",
              "      <td>Data Engineer</td>\n",
              "      <td>https://staff.am/en/data-engineer-51</td>\n",
              "      <td>22 July 2020</td>\n",
              "      <td>Yerevan</td>\n",
              "    </tr>\n",
              "    <tr>\n",
              "      <th>31</th>\n",
              "      <td>ACBA-CREDIT AGRICOLE BANK CJSC</td>\n",
              "      <td>Junior Database Administrator</td>\n",
              "      <td>https://staff.am/en/junior-database-administra...</td>\n",
              "      <td>19 July 2020</td>\n",
              "      <td>Yerevan</td>\n",
              "    </tr>\n",
              "    <tr>\n",
              "      <th>4</th>\n",
              "      <td>Ucom CJSC</td>\n",
              "      <td>Senior Database Administrator</td>\n",
              "      <td>https://staff.am/en/senior-database-administra...</td>\n",
              "      <td>11 July 2020</td>\n",
              "      <td>Yerevan</td>\n",
              "    </tr>\n",
              "    <tr>\n",
              "      <th>28</th>\n",
              "      <td>Krisp</td>\n",
              "      <td>Data Specialist / QA Engineer</td>\n",
              "      <td>https://staff.am/en/data-specialist-qa-engineer-1</td>\n",
              "      <td>03 July 2020</td>\n",
              "      <td>Yerevan</td>\n",
              "    </tr>\n",
              "    <tr>\n",
              "      <th>41</th>\n",
              "      <td>BIVAC Armenia CJSC</td>\n",
              "      <td>Database Administrator</td>\n",
              "      <td>https://staff.am/en/database-administrator-83</td>\n",
              "      <td>02 July 2020</td>\n",
              "      <td>Yerevan</td>\n",
              "    </tr>\n",
              "    <tr>\n",
              "      <th>2</th>\n",
              "      <td>DISQO</td>\n",
              "      <td>Engineering Manager, Java Microservices &amp; Data</td>\n",
              "      <td>https://staff.am/en/engineering-manager-java-m...</td>\n",
              "      <td>03 July 2020</td>\n",
              "      <td>Yerevan</td>\n",
              "    </tr>\n",
              "  </tbody>\n",
              "</table>\n",
              "</div>"
            ],
            "text/plain": [
              "                         Companies  ... Location\n",
              "26                         PicsArt  ...  Yerevan\n",
              "27                         PicsArt  ...  Yerevan\n",
              "22                          buymie  ...  Yerevan\n",
              "46       Webb Fontaine Holding LLC  ...  Yerevan\n",
              "31  ACBA-CREDIT AGRICOLE BANK CJSC  ...  Yerevan\n",
              "4                        Ucom CJSC  ...  Yerevan\n",
              "28                           Krisp  ...  Yerevan\n",
              "41              BIVAC Armenia CJSC  ...  Yerevan\n",
              "2                            DISQO  ...  Yerevan\n",
              "\n",
              "[9 rows x 5 columns]"
            ]
          },
          "metadata": {
            "tags": []
          },
          "execution_count": 172
        }
      ]
    },
    {
      "cell_type": "code",
      "metadata": {
        "id": "yoGgSvJ5R-2I",
        "colab_type": "code",
        "colab": {
          "base_uri": "https://localhost:8080/",
          "height": 35
        },
        "outputId": "3d3ce00c-6074-480f-99a1-c0ddf3160bf5"
      },
      "source": [
        "jobs[jobs['Vacancies'].str.contains(\"Data\")]['Vacancies'].count()"
      ],
      "execution_count": 173,
      "outputs": [
        {
          "output_type": "execute_result",
          "data": {
            "text/plain": [
              "9"
            ]
          },
          "metadata": {
            "tags": []
          },
          "execution_count": 173
        }
      ]
    },
    {
      "cell_type": "code",
      "metadata": {
        "id": "yfUc-qvXSDC3",
        "colab_type": "code",
        "colab": {}
      },
      "source": [
        "jobs.to_csv('jobs.csv', index=False)"
      ],
      "execution_count": 174,
      "outputs": []
    },
    {
      "cell_type": "code",
      "metadata": {
        "id": "YwxUC-bTSGYA",
        "colab_type": "code",
        "colab": {}
      },
      "source": [
        ""
      ],
      "execution_count": 174,
      "outputs": []
    }
  ]
}